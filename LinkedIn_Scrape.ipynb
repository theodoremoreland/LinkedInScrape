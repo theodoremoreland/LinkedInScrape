{
 "cells": [
  {
   "cell_type": "code",
   "execution_count": 109,
   "metadata": {},
   "outputs": [],
   "source": [
    "import re\n",
    "import time\n",
    "import pandas as pd\n",
    "from splinter import Browser\n",
    "from config import aLinkedIn\n",
    "from Models.linkedin import LinkedIn\n",
    "from Main import daugherty, slalom, _1904labs, worldWideTechnology"
   ]
  },
  {
   "cell_type": "code",
   "execution_count": 110,
   "metadata": {},
   "outputs": [],
   "source": [
    "urls = [daugherty.linkedin, slalom.linkedin, _1904labs.linkedin, worldWideTechnology.linkedin]"
   ]
  },
  {
   "cell_type": "code",
   "execution_count": 111,
   "metadata": {},
   "outputs": [],
   "source": [
    "def login():\n",
    "    browser.visit(urls[0])\n",
    "    button = browser.find_by_css(\"a[class='form-toggle']\")\n",
    "    button.click()\n",
    "    browser.fill('session_key', aLinkedIn[\"email\"])\n",
    "    browser.fill('session_password', aLinkedIn[\"password\"])\n",
    "    button = browser.find_by_css(\"input[class='login submit-button']\")\n",
    "    button.click()\n",
    "    "
   ]
  },
  {
   "cell_type": "code",
   "execution_count": 121,
   "metadata": {
    "scrolled": true
   },
   "outputs": [],
   "source": [
    "def grabProfiles(urls):\n",
    "    for url in urls:\n",
    "\n",
    "        browser.visit(url)\n",
    "\n",
    "        name = browser.find_by_css(\"span[dir='ltr']\")[0].text\n",
    "\n",
    "        followers = browser.find_by_css(\"div[class='org-top-card-summary__info-item org-top-card-summary__follower-count']\").text\n",
    "        followers = re.sub(\"[^\\d]\", \"\", followers) # returns only digits\n",
    "        followers = int(followers)\n",
    "\n",
    "        employees_on_linkedin = browser.find_by_css(\"a[data-control-name='topcard_see_all_employees']\").text\n",
    "        employees_on_linkedin = re.sub(\"[^\\d]\", \"\", employees_on_linkedin) # returns only digits\n",
    "        employees_on_linkedin = int(employees_on_linkedin)\n",
    "\n",
    "        size = employees_on_linkedin\n",
    "\n",
    "        url = url\n",
    "\n",
    "        print(name, followers, employees_on_linkedin)\n",
    "\n",
    "        linkedin = LinkedIn()\n",
    "        linkedin.connect()\n",
    "        linkedin.createTables()\n",
    "        linkedin.intoProfile(name, followers, employees_on_linkedin, size, url)\n",
    "        linkedin.select()\n"
   ]
  },
  {
   "cell_type": "code",
   "execution_count": 114,
   "metadata": {},
   "outputs": [],
   "source": [
    "def filterToMostRecent():\n",
    "    button = browser.find_by_css(\"li-icon[class='sort-dropdown__icon']\")[0]\n",
    "    button.click()\n",
    "    button = browser.find_by_css('button[class=\"flex-grow-1 justify-flex-start ph4 pv2 artdeco-button artdeco-button--muted artdeco-button--1 artdeco-button--tertiary ember-view\"]')\n",
    "    button.click()"
   ]
  },
  {
   "cell_type": "code",
   "execution_count": 136,
   "metadata": {},
   "outputs": [],
   "source": [
    "def scroll_down():\n",
    "    \n",
    "    _data = browser.find_by_css(\"div[class='occludable-update ember-view']\")\n",
    "\n",
    "    \n",
    "    while len(_data) > 1:\n",
    "        _data2 = browser.find_by_css(\"div[class='occludable-update ember-view']\")\n",
    "        browser.execute_script(\"window.scrollTo(400, document.body.scrollHeight);\")\n",
    "        _data = browser.find_by_css(\"div[class='occludable-update ember-view']\")\n",
    "        if (len(_data) == len(_data2)):\n",
    "            timer = time.time()\n",
    "            one_minutes_elapsed = timer + 60\n",
    "            while time.time() < one_minutes_elapsed:\n",
    "                _data3 = browser.find_by_css(\"div[class='occludable-update ember-view']\")\n",
    "                browser.execute_script(\"window.scrollTo(400, document.body.scrollHeight);\")\n",
    "                _data4 = browser.find_by_css(\"div[class='occludable-update ember-view']\")\n",
    "            if (len(_data2) == len(_data3)):\n",
    "                print(\"finished\")\n",
    "                break\n",
    "    print(len(_data))\n",
    "        "
   ]
  },
  {
   "cell_type": "code",
   "execution_count": 144,
   "metadata": {},
   "outputs": [],
   "source": [
    "def postData(id):\n",
    "    _data = browser.find_by_css(\"div[class='occludable-update ember-view']\")\n",
    "    for i in range(len(_data)):\n",
    "        date = browser.find_by_css(\"div[class='feed-shared-text-view white-space-pre-wrap break-words ember-view']\")[i].text\n",
    "        date = re.sub(\"\\s+.*\", \"\", date)\n",
    "        reaction = browser.find_by_css(\"ul[class='social-details-social-counts ember-view']\")[i].text\n",
    "        print(date)\n",
    "        try:\n",
    "            likes = reaction.split(\"\\n\")[0].split()[0]\n",
    "            likes = re.sub(\"[^\\d]\", \"\", likes) # returns only digitS\n",
    "            int(likes)\n",
    "        except:\n",
    "            likes = 0\n",
    "            \n",
    "        try:\n",
    "            comments = reaction.split(\"\\n\")[1].split()[0]\n",
    "            comments = re.sub(\"[^\\d]\", \"\", comments) # returns only digits\n",
    "            int(comments)\n",
    "        except:\n",
    "            comments = 0\n",
    "            \n",
    "        print(\"likes: \" + likes)\n",
    "        print(\"comments: \" + comments)\n",
    "        \n",
    "        linkedin = LinkedIn()\n",
    "        linkedin.connect()\n",
    "        linkedin.createTables()\n",
    "            \n",
    "        linkedin.intoPosts(likes, comments, date, id + 1)\n",
    "        linkedin.select()\n",
    "    "
   ]
  },
  {
   "cell_type": "code",
   "execution_count": 123,
   "metadata": {},
   "outputs": [],
   "source": [
    "executable_path = {'executable_path': 'chromedriver.exe'}\n",
    "browser = Browser('chrome', **executable_path, headless=False)"
   ]
  },
  {
   "cell_type": "code",
   "execution_count": 125,
   "metadata": {},
   "outputs": [
    {
     "ename": "AttributeError",
     "evalue": "'ElementList' object has no attribute 'click'",
     "output_type": "error",
     "traceback": [
      "\u001b[1;31m---------------------------------------------------------------------------\u001b[0m",
      "\u001b[1;31mIndexError\u001b[0m                                Traceback (most recent call last)",
      "\u001b[1;32m~\\Anaconda3\\envs\\PythonData\\lib\\site-packages\\splinter\\element_list.py\u001b[0m in \u001b[0;36m__getitem__\u001b[1;34m(self, index)\u001b[0m\n\u001b[0;32m     39\u001b[0m         \u001b[1;32mtry\u001b[0m\u001b[1;33m:\u001b[0m\u001b[1;33m\u001b[0m\u001b[1;33m\u001b[0m\u001b[0m\n\u001b[1;32m---> 40\u001b[1;33m             \u001b[1;32mreturn\u001b[0m \u001b[0msuper\u001b[0m\u001b[1;33m(\u001b[0m\u001b[0mElementList\u001b[0m\u001b[1;33m,\u001b[0m \u001b[0mself\u001b[0m\u001b[1;33m)\u001b[0m\u001b[1;33m.\u001b[0m\u001b[0m__getitem__\u001b[0m\u001b[1;33m(\u001b[0m\u001b[0mindex\u001b[0m\u001b[1;33m)\u001b[0m\u001b[1;33m\u001b[0m\u001b[1;33m\u001b[0m\u001b[0m\n\u001b[0m\u001b[0;32m     41\u001b[0m         \u001b[1;32mexcept\u001b[0m \u001b[0mIndexError\u001b[0m\u001b[1;33m:\u001b[0m\u001b[1;33m\u001b[0m\u001b[1;33m\u001b[0m\u001b[0m\n",
      "\u001b[1;31mIndexError\u001b[0m: list index out of range",
      "\nDuring handling of the above exception, another exception occurred:\n",
      "\u001b[1;31mElementDoesNotExist\u001b[0m                       Traceback (most recent call last)",
      "\u001b[1;32m~\\Anaconda3\\envs\\PythonData\\lib\\site-packages\\splinter\\element_list.py\u001b[0m in \u001b[0;36m__getattr__\u001b[1;34m(self, name)\u001b[0m\n\u001b[0;32m     73\u001b[0m         \u001b[1;32mtry\u001b[0m\u001b[1;33m:\u001b[0m\u001b[1;33m\u001b[0m\u001b[1;33m\u001b[0m\u001b[0m\n\u001b[1;32m---> 74\u001b[1;33m             \u001b[1;32mreturn\u001b[0m \u001b[0mgetattr\u001b[0m\u001b[1;33m(\u001b[0m\u001b[0mself\u001b[0m\u001b[1;33m.\u001b[0m\u001b[0mfirst\u001b[0m\u001b[1;33m,\u001b[0m \u001b[0mname\u001b[0m\u001b[1;33m)\u001b[0m\u001b[1;33m\u001b[0m\u001b[1;33m\u001b[0m\u001b[0m\n\u001b[0m\u001b[0;32m     75\u001b[0m         \u001b[1;32mexcept\u001b[0m \u001b[1;33m(\u001b[0m\u001b[0mElementDoesNotExist\u001b[0m\u001b[1;33m,\u001b[0m \u001b[0mAttributeError\u001b[0m\u001b[1;33m)\u001b[0m\u001b[1;33m:\u001b[0m\u001b[1;33m\u001b[0m\u001b[1;33m\u001b[0m\u001b[0m\n",
      "\u001b[1;32m~\\Anaconda3\\envs\\PythonData\\lib\\site-packages\\splinter\\element_list.py\u001b[0m in \u001b[0;36mfirst\u001b[1;34m(self)\u001b[0m\n\u001b[0;32m     54\u001b[0m         \"\"\"\n\u001b[1;32m---> 55\u001b[1;33m         \u001b[1;32mreturn\u001b[0m \u001b[0mself\u001b[0m\u001b[1;33m[\u001b[0m\u001b[1;36m0\u001b[0m\u001b[1;33m]\u001b[0m\u001b[1;33m\u001b[0m\u001b[1;33m\u001b[0m\u001b[0m\n\u001b[0m\u001b[0;32m     56\u001b[0m \u001b[1;33m\u001b[0m\u001b[0m\n",
      "\u001b[1;32m~\\Anaconda3\\envs\\PythonData\\lib\\site-packages\\splinter\\element_list.py\u001b[0m in \u001b[0;36m__getitem__\u001b[1;34m(self, index)\u001b[0m\n\u001b[0;32m     43\u001b[0m                 u'no elements could be found with {0} \"{1}\"'.format(\n\u001b[1;32m---> 44\u001b[1;33m                     \u001b[0mself\u001b[0m\u001b[1;33m.\u001b[0m\u001b[0mfind_by\u001b[0m\u001b[1;33m,\u001b[0m \u001b[0mself\u001b[0m\u001b[1;33m.\u001b[0m\u001b[0mquery\u001b[0m\u001b[1;33m\u001b[0m\u001b[1;33m\u001b[0m\u001b[0m\n\u001b[0m\u001b[0;32m     45\u001b[0m                 )\n",
      "\u001b[1;31mElementDoesNotExist\u001b[0m: no elements could be found with css \"a[class='form-toggle']\"",
      "\nDuring handling of the above exception, another exception occurred:\n",
      "\u001b[1;31mAttributeError\u001b[0m                            Traceback (most recent call last)",
      "\u001b[1;32m<ipython-input-125-390877b5064f>\u001b[0m in \u001b[0;36m<module>\u001b[1;34m\u001b[0m\n\u001b[1;32m----> 1\u001b[1;33m \u001b[0mlogin\u001b[0m\u001b[1;33m(\u001b[0m\u001b[1;33m)\u001b[0m\u001b[1;33m\u001b[0m\u001b[1;33m\u001b[0m\u001b[0m\n\u001b[0m",
      "\u001b[1;32m<ipython-input-111-c3d52fcee262>\u001b[0m in \u001b[0;36mlogin\u001b[1;34m()\u001b[0m\n\u001b[0;32m      2\u001b[0m     \u001b[0mbrowser\u001b[0m\u001b[1;33m.\u001b[0m\u001b[0mvisit\u001b[0m\u001b[1;33m(\u001b[0m\u001b[0murls\u001b[0m\u001b[1;33m[\u001b[0m\u001b[1;36m0\u001b[0m\u001b[1;33m]\u001b[0m\u001b[1;33m)\u001b[0m\u001b[1;33m\u001b[0m\u001b[1;33m\u001b[0m\u001b[0m\n\u001b[0;32m      3\u001b[0m     \u001b[0mbutton\u001b[0m \u001b[1;33m=\u001b[0m \u001b[0mbrowser\u001b[0m\u001b[1;33m.\u001b[0m\u001b[0mfind_by_css\u001b[0m\u001b[1;33m(\u001b[0m\u001b[1;34m\"a[class='form-toggle']\"\u001b[0m\u001b[1;33m)\u001b[0m\u001b[1;33m\u001b[0m\u001b[1;33m\u001b[0m\u001b[0m\n\u001b[1;32m----> 4\u001b[1;33m     \u001b[0mbutton\u001b[0m\u001b[1;33m.\u001b[0m\u001b[0mclick\u001b[0m\u001b[1;33m(\u001b[0m\u001b[1;33m)\u001b[0m\u001b[1;33m\u001b[0m\u001b[1;33m\u001b[0m\u001b[0m\n\u001b[0m\u001b[0;32m      5\u001b[0m     \u001b[0mbrowser\u001b[0m\u001b[1;33m.\u001b[0m\u001b[0mfill\u001b[0m\u001b[1;33m(\u001b[0m\u001b[1;34m'session_key'\u001b[0m\u001b[1;33m,\u001b[0m \u001b[0maLinkedIn\u001b[0m\u001b[1;33m[\u001b[0m\u001b[1;34m\"email\"\u001b[0m\u001b[1;33m]\u001b[0m\u001b[1;33m)\u001b[0m\u001b[1;33m\u001b[0m\u001b[1;33m\u001b[0m\u001b[0m\n\u001b[0;32m      6\u001b[0m     \u001b[0mbrowser\u001b[0m\u001b[1;33m.\u001b[0m\u001b[0mfill\u001b[0m\u001b[1;33m(\u001b[0m\u001b[1;34m'session_password'\u001b[0m\u001b[1;33m,\u001b[0m \u001b[0maLinkedIn\u001b[0m\u001b[1;33m[\u001b[0m\u001b[1;34m\"password\"\u001b[0m\u001b[1;33m]\u001b[0m\u001b[1;33m)\u001b[0m\u001b[1;33m\u001b[0m\u001b[1;33m\u001b[0m\u001b[0m\n",
      "\u001b[1;32m~\\Anaconda3\\envs\\PythonData\\lib\\site-packages\\splinter\\element_list.py\u001b[0m in \u001b[0;36m__getattr__\u001b[1;34m(self, name)\u001b[0m\n\u001b[0;32m     76\u001b[0m             raise AttributeError(\n\u001b[0;32m     77\u001b[0m                 u\"'{0}' object has no attribute '{1}'\".format(\n\u001b[1;32m---> 78\u001b[1;33m                     \u001b[0mself\u001b[0m\u001b[1;33m.\u001b[0m\u001b[0m__class__\u001b[0m\u001b[1;33m.\u001b[0m\u001b[0m__name__\u001b[0m\u001b[1;33m,\u001b[0m \u001b[0mname\u001b[0m\u001b[1;33m\u001b[0m\u001b[1;33m\u001b[0m\u001b[0m\n\u001b[0m\u001b[0;32m     79\u001b[0m                 )\n\u001b[0;32m     80\u001b[0m             )\n",
      "\u001b[1;31mAttributeError\u001b[0m: 'ElementList' object has no attribute 'click'"
     ]
    }
   ],
   "source": [
    "login()"
   ]
  },
  {
   "cell_type": "code",
   "execution_count": 146,
   "metadata": {
    "scrolled": true
   },
   "outputs": [
    {
     "name": "stdout",
     "output_type": "stream",
     "text": [
      "Daugherty Business Solutions 36211 1378\n",
      "You are connected to -  ['PostgreSQL 11.5 on x86_64-pc-linux-gnu, compiled by gcc (GCC) 4.8.3 20140911 (Red Hat 4.8.3-9), 64-bit'] \n",
      "\n"
     ]
    },
    {
     "ename": "IntegrityError",
     "evalue": "{'S': 'ERROR', 'V': 'ERROR', 'C': '23505', 'M': 'duplicate key value violates unique constraint \"profile_name_key\"', 'D': 'Key (name)=(Daugherty Business Solutions) already exists.', 's': 'public', 't': 'profile', 'n': 'profile_name_key', 'F': 'nbtinsert.c', 'L': '534', 'R': '_bt_check_unique'}",
     "output_type": "error",
     "traceback": [
      "\u001b[1;31m---------------------------------------------------------------------------\u001b[0m",
      "\u001b[1;31mIntegrityError\u001b[0m                            Traceback (most recent call last)",
      "\u001b[1;32m<ipython-input-146-340168cdcf4d>\u001b[0m in \u001b[0;36m<module>\u001b[1;34m\u001b[0m\n\u001b[1;32m----> 1\u001b[1;33m \u001b[0mgrabProfiles\u001b[0m\u001b[1;33m(\u001b[0m\u001b[0murls\u001b[0m\u001b[1;33m)\u001b[0m\u001b[1;33m\u001b[0m\u001b[1;33m\u001b[0m\u001b[0m\n\u001b[0m",
      "\u001b[1;32m<ipython-input-121-449180d9134c>\u001b[0m in \u001b[0;36mgrabProfiles\u001b[1;34m(urls)\u001b[0m\n\u001b[0;32m     23\u001b[0m         \u001b[0mlinkedin\u001b[0m\u001b[1;33m.\u001b[0m\u001b[0mconnect\u001b[0m\u001b[1;33m(\u001b[0m\u001b[1;33m)\u001b[0m\u001b[1;33m\u001b[0m\u001b[1;33m\u001b[0m\u001b[0m\n\u001b[0;32m     24\u001b[0m         \u001b[0mlinkedin\u001b[0m\u001b[1;33m.\u001b[0m\u001b[0mcreateTables\u001b[0m\u001b[1;33m(\u001b[0m\u001b[1;33m)\u001b[0m\u001b[1;33m\u001b[0m\u001b[1;33m\u001b[0m\u001b[0m\n\u001b[1;32m---> 25\u001b[1;33m         \u001b[0mlinkedin\u001b[0m\u001b[1;33m.\u001b[0m\u001b[0mintoProfile\u001b[0m\u001b[1;33m(\u001b[0m\u001b[0mname\u001b[0m\u001b[1;33m,\u001b[0m \u001b[0mfollowers\u001b[0m\u001b[1;33m,\u001b[0m \u001b[0memployees_on_linkedin\u001b[0m\u001b[1;33m,\u001b[0m \u001b[0msize\u001b[0m\u001b[1;33m,\u001b[0m \u001b[0murl\u001b[0m\u001b[1;33m)\u001b[0m\u001b[1;33m\u001b[0m\u001b[1;33m\u001b[0m\u001b[0m\n\u001b[0m\u001b[0;32m     26\u001b[0m         \u001b[0mlinkedin\u001b[0m\u001b[1;33m.\u001b[0m\u001b[0mselect\u001b[0m\u001b[1;33m(\u001b[0m\u001b[1;33m)\u001b[0m\u001b[1;33m\u001b[0m\u001b[1;33m\u001b[0m\u001b[0m\n",
      "\u001b[1;32m~\\SocialMediaScrape\\Models\\linkedin.py\u001b[0m in \u001b[0;36mintoProfile\u001b[1;34m(self, name, followers, employees_on_linkedin, size, url)\u001b[0m\n\u001b[0;32m     52\u001b[0m         \u001b[0ms\u001b[0m \u001b[1;33m=\u001b[0m \u001b[1;34mf\"INSERT INTO profile(name, followers, employees_on_linkedin, size, url) VALUES ('{name}', {followers}, {employees_on_linkedin}, {size}, '{url}');\"\u001b[0m\u001b[1;33m\u001b[0m\u001b[1;33m\u001b[0m\u001b[0m\n\u001b[0;32m     53\u001b[0m         \u001b[0mcursor\u001b[0m\u001b[1;33m.\u001b[0m\u001b[0mexecute\u001b[0m\u001b[1;33m(\u001b[0m\u001b[1;34m'BEGIN TRANSACTION;'\u001b[0m\u001b[1;33m)\u001b[0m\u001b[1;33m\u001b[0m\u001b[1;33m\u001b[0m\u001b[0m\n\u001b[1;32m---> 54\u001b[1;33m         \u001b[0mcursor\u001b[0m\u001b[1;33m.\u001b[0m\u001b[0mexecute\u001b[0m\u001b[1;33m(\u001b[0m\u001b[0ms\u001b[0m\u001b[1;33m)\u001b[0m\u001b[1;33m\u001b[0m\u001b[1;33m\u001b[0m\u001b[0m\n\u001b[0m\u001b[0;32m     55\u001b[0m         \u001b[0mcursor\u001b[0m\u001b[1;33m.\u001b[0m\u001b[0mexecute\u001b[0m\u001b[1;33m(\u001b[0m\u001b[1;34m'COMMIT;'\u001b[0m\u001b[1;33m)\u001b[0m\u001b[1;33m\u001b[0m\u001b[1;33m\u001b[0m\u001b[0m\n\u001b[0;32m     56\u001b[0m \u001b[1;33m\u001b[0m\u001b[0m\n",
      "\u001b[1;32m~\\Anaconda3\\envs\\PythonData\\lib\\site-packages\\pg8000\\core.py\u001b[0m in \u001b[0;36mexecute\u001b[1;34m(self, operation, args, stream)\u001b[0m\n\u001b[0;32m    859\u001b[0m             \u001b[1;32mif\u001b[0m \u001b[1;32mnot\u001b[0m \u001b[0mself\u001b[0m\u001b[1;33m.\u001b[0m\u001b[0m_c\u001b[0m\u001b[1;33m.\u001b[0m\u001b[0min_transaction\u001b[0m \u001b[1;32mand\u001b[0m \u001b[1;32mnot\u001b[0m \u001b[0mself\u001b[0m\u001b[1;33m.\u001b[0m\u001b[0m_c\u001b[0m\u001b[1;33m.\u001b[0m\u001b[0mautocommit\u001b[0m\u001b[1;33m:\u001b[0m\u001b[1;33m\u001b[0m\u001b[1;33m\u001b[0m\u001b[0m\n\u001b[0;32m    860\u001b[0m                 \u001b[0mself\u001b[0m\u001b[1;33m.\u001b[0m\u001b[0m_c\u001b[0m\u001b[1;33m.\u001b[0m\u001b[0mexecute\u001b[0m\u001b[1;33m(\u001b[0m\u001b[0mself\u001b[0m\u001b[1;33m,\u001b[0m \u001b[1;34m\"begin transaction\"\u001b[0m\u001b[1;33m,\u001b[0m \u001b[1;32mNone\u001b[0m\u001b[1;33m)\u001b[0m\u001b[1;33m\u001b[0m\u001b[1;33m\u001b[0m\u001b[0m\n\u001b[1;32m--> 861\u001b[1;33m             \u001b[0mself\u001b[0m\u001b[1;33m.\u001b[0m\u001b[0m_c\u001b[0m\u001b[1;33m.\u001b[0m\u001b[0mexecute\u001b[0m\u001b[1;33m(\u001b[0m\u001b[0mself\u001b[0m\u001b[1;33m,\u001b[0m \u001b[0moperation\u001b[0m\u001b[1;33m,\u001b[0m \u001b[0margs\u001b[0m\u001b[1;33m)\u001b[0m\u001b[1;33m\u001b[0m\u001b[1;33m\u001b[0m\u001b[0m\n\u001b[0m\u001b[0;32m    862\u001b[0m         \u001b[1;32mexcept\u001b[0m \u001b[0mAttributeError\u001b[0m \u001b[1;32mas\u001b[0m \u001b[0me\u001b[0m\u001b[1;33m:\u001b[0m\u001b[1;33m\u001b[0m\u001b[1;33m\u001b[0m\u001b[0m\n\u001b[0;32m    863\u001b[0m             \u001b[1;32mif\u001b[0m \u001b[0mself\u001b[0m\u001b[1;33m.\u001b[0m\u001b[0m_c\u001b[0m \u001b[1;32mis\u001b[0m \u001b[1;32mNone\u001b[0m\u001b[1;33m:\u001b[0m\u001b[1;33m\u001b[0m\u001b[1;33m\u001b[0m\u001b[0m\n",
      "\u001b[1;32m~\\Anaconda3\\envs\\PythonData\\lib\\site-packages\\pg8000\\core.py\u001b[0m in \u001b[0;36mexecute\u001b[1;34m(self, cursor, operation, vals)\u001b[0m\n\u001b[0;32m   1907\u001b[0m         \u001b[0mself\u001b[0m\u001b[1;33m.\u001b[0m\u001b[0m_write\u001b[0m\u001b[1;33m(\u001b[0m\u001b[0mSYNC_MSG\u001b[0m\u001b[1;33m)\u001b[0m\u001b[1;33m\u001b[0m\u001b[1;33m\u001b[0m\u001b[0m\n\u001b[0;32m   1908\u001b[0m         \u001b[0mself\u001b[0m\u001b[1;33m.\u001b[0m\u001b[0m_flush\u001b[0m\u001b[1;33m(\u001b[0m\u001b[1;33m)\u001b[0m\u001b[1;33m\u001b[0m\u001b[1;33m\u001b[0m\u001b[0m\n\u001b[1;32m-> 1909\u001b[1;33m         \u001b[0mself\u001b[0m\u001b[1;33m.\u001b[0m\u001b[0mhandle_messages\u001b[0m\u001b[1;33m(\u001b[0m\u001b[0mcursor\u001b[0m\u001b[1;33m)\u001b[0m\u001b[1;33m\u001b[0m\u001b[1;33m\u001b[0m\u001b[0m\n\u001b[0m\u001b[0;32m   1910\u001b[0m \u001b[1;33m\u001b[0m\u001b[0m\n\u001b[0;32m   1911\u001b[0m     \u001b[1;32mdef\u001b[0m \u001b[0m_send_message\u001b[0m\u001b[1;33m(\u001b[0m\u001b[0mself\u001b[0m\u001b[1;33m,\u001b[0m \u001b[0mcode\u001b[0m\u001b[1;33m,\u001b[0m \u001b[0mdata\u001b[0m\u001b[1;33m)\u001b[0m\u001b[1;33m:\u001b[0m\u001b[1;33m\u001b[0m\u001b[1;33m\u001b[0m\u001b[0m\n",
      "\u001b[1;32m~\\Anaconda3\\envs\\PythonData\\lib\\site-packages\\pg8000\\core.py\u001b[0m in \u001b[0;36mhandle_messages\u001b[1;34m(self, cursor)\u001b[0m\n\u001b[0;32m   1974\u001b[0m \u001b[1;33m\u001b[0m\u001b[0m\n\u001b[0;32m   1975\u001b[0m         \u001b[1;32mif\u001b[0m \u001b[0mself\u001b[0m\u001b[1;33m.\u001b[0m\u001b[0merror\u001b[0m \u001b[1;32mis\u001b[0m \u001b[1;32mnot\u001b[0m \u001b[1;32mNone\u001b[0m\u001b[1;33m:\u001b[0m\u001b[1;33m\u001b[0m\u001b[1;33m\u001b[0m\u001b[0m\n\u001b[1;32m-> 1976\u001b[1;33m             \u001b[1;32mraise\u001b[0m \u001b[0mself\u001b[0m\u001b[1;33m.\u001b[0m\u001b[0merror\u001b[0m\u001b[1;33m\u001b[0m\u001b[1;33m\u001b[0m\u001b[0m\n\u001b[0m\u001b[0;32m   1977\u001b[0m \u001b[1;33m\u001b[0m\u001b[0m\n\u001b[0;32m   1978\u001b[0m     \u001b[1;31m# Byte1('C') - Identifies the message as a close command.\u001b[0m\u001b[1;33m\u001b[0m\u001b[1;33m\u001b[0m\u001b[1;33m\u001b[0m\u001b[0m\n",
      "\u001b[1;31mIntegrityError\u001b[0m: {'S': 'ERROR', 'V': 'ERROR', 'C': '23505', 'M': 'duplicate key value violates unique constraint \"profile_name_key\"', 'D': 'Key (name)=(Daugherty Business Solutions) already exists.', 's': 'public', 't': 'profile', 'n': 'profile_name_key', 'F': 'nbtinsert.c', 'L': '534', 'R': '_bt_check_unique'}"
     ]
    }
   ],
   "source": [
    "grabProfiles(urls)"
   ]
  },
  {
   "cell_type": "code",
   "execution_count": 143,
   "metadata": {
    "scrolled": false
   },
   "outputs": [
    {
     "name": "stdout",
     "output_type": "stream",
     "text": [
      "finished\n",
      "354\n",
      "17h \n",
      "likes: 26\n",
      "comments: 1\n",
      "You are connected to -  ['PostgreSQL 11.5 on x86_64-pc-linux-gnu, compiled by gcc (GCC) 4.8.3 20140911 (Red Hat 4.8.3-9), 64-bit'] \n",
      "\n",
      "([1, 'Daugherty Business Solutions', 36211, 1378, 1378, 'https://www.linkedin.com/company/daugherty-business-solutions/'], [2, 'Slalom', 96356, 7073, 7073, 'https://www.linkedin.com/company/slalom-consulting/'], [3, '1904labs', 1325, 92, 92, 'https://www.linkedin.com/company/1904labs/'], [4, 'World Wide Technology', 121807, 5139, 5139, 'https://www.linkedin.com/company/world-wide-technology/'])\n",
      "([1, 26, 1, '17h ', 1],)\n",
      "2d \n",
      "You are connected to -  ['PostgreSQL 11.5 on x86_64-pc-linux-gnu, compiled by gcc (GCC) 4.8.3 20140911 (Red Hat 4.8.3-9), 64-bit'] \n",
      "\n",
      "([1, 'Daugherty Business Solutions', 36211, 1378, 1378, 'https://www.linkedin.com/company/daugherty-business-solutions/'], [2, 'Slalom', 96356, 7073, 7073, 'https://www.linkedin.com/company/slalom-consulting/'], [3, '1904labs', 1325, 92, 92, 'https://www.linkedin.com/company/1904labs/'], [4, 'World Wide Technology', 121807, 5139, 5139, 'https://www.linkedin.com/company/world-wide-technology/'])\n",
      "([1, 26, 1, '17h ', 1], [2, 43, 1, '2d ', 1])\n",
      "2d \n",
      "You are connected to -  ['PostgreSQL 11.5 on x86_64-pc-linux-gnu, compiled by gcc (GCC) 4.8.3 20140911 (Red Hat 4.8.3-9), 64-bit'] \n",
      "\n",
      "([1, 'Daugherty Business Solutions', 36211, 1378, 1378, 'https://www.linkedin.com/company/daugherty-business-solutions/'], [2, 'Slalom', 96356, 7073, 7073, 'https://www.linkedin.com/company/slalom-consulting/'], [3, '1904labs', 1325, 92, 92, 'https://www.linkedin.com/company/1904labs/'], [4, 'World Wide Technology', 121807, 5139, 5139, 'https://www.linkedin.com/company/world-wide-technology/'])\n",
      "([1, 26, 1, '17h ', 1], [2, 43, 1, '2d ', 1], [3, 6, 1, '2d ', 1])\n",
      " \n",
      "You are connected to -  ['PostgreSQL 11.5 on x86_64-pc-linux-gnu, compiled by gcc (GCC) 4.8.3 20140911 (Red Hat 4.8.3-9), 64-bit'] \n",
      "\n",
      "([1, 'Daugherty Business Solutions', 36211, 1378, 1378, 'https://www.linkedin.com/company/daugherty-business-solutions/'], [2, 'Slalom', 96356, 7073, 7073, 'https://www.linkedin.com/company/slalom-consulting/'], [3, '1904labs', 1325, 92, 92, 'https://www.linkedin.com/company/1904labs/'], [4, 'World Wide Technology', 121807, 5139, 5139, 'https://www.linkedin.com/company/world-wide-technology/'])\n",
      "([1, 26, 1, '17h ', 1], [2, 43, 1, '2d ', 1], [3, 6, 1, '2d ', 1], [4, 9, 1, ' ', 1])\n",
      "2d \n",
      "likes: 99\n",
      "comments: 43\n",
      "You are connected to -  ['PostgreSQL 11.5 on x86_64-pc-linux-gnu, compiled by gcc (GCC) 4.8.3 20140911 (Red Hat 4.8.3-9), 64-bit'] \n",
      "\n",
      "([1, 'Daugherty Business Solutions', 36211, 1378, 1378, 'https://www.linkedin.com/company/daugherty-business-solutions/'], [2, 'Slalom', 96356, 7073, 7073, 'https://www.linkedin.com/company/slalom-consulting/'], [3, '1904labs', 1325, 92, 92, 'https://www.linkedin.com/company/1904labs/'], [4, 'World Wide Technology', 121807, 5139, 5139, 'https://www.linkedin.com/company/world-wide-technology/'])\n",
      "([1, 26, 1, '17h ', 1], [2, 43, 1, '2d ', 1], [3, 6, 1, '2d ', 1], [4, 9, 1, ' ', 1], [5, 99, 43, '2d ', 1])\n",
      "1w \n",
      "You are connected to -  ['PostgreSQL 11.5 on x86_64-pc-linux-gnu, compiled by gcc (GCC) 4.8.3 20140911 (Red Hat 4.8.3-9), 64-bit'] \n",
      "\n",
      "([1, 'Daugherty Business Solutions', 36211, 1378, 1378, 'https://www.linkedin.com/company/daugherty-business-solutions/'], [2, 'Slalom', 96356, 7073, 7073, 'https://www.linkedin.com/company/slalom-consulting/'], [3, '1904labs', 1325, 92, 92, 'https://www.linkedin.com/company/1904labs/'], [4, 'World Wide Technology', 121807, 5139, 5139, 'https://www.linkedin.com/company/world-wide-technology/'])\n",
      "([1, 26, 1, '17h ', 1], [2, 43, 1, '2d ', 1], [3, 6, 1, '2d ', 1], [4, 9, 1, ' ', 1], [5, 99, 43, '2d ', 1], [6, 19, 43, '1w ', 1])\n",
      " \n",
      "likes: 53\n",
      "comments: 4\n",
      "You are connected to -  ['PostgreSQL 11.5 on x86_64-pc-linux-gnu, compiled by gcc (GCC) 4.8.3 20140911 (Red Hat 4.8.3-9), 64-bit'] \n",
      "\n",
      "([1, 'Daugherty Business Solutions', 36211, 1378, 1378, 'https://www.linkedin.com/company/daugherty-business-solutions/'], [2, 'Slalom', 96356, 7073, 7073, 'https://www.linkedin.com/company/slalom-consulting/'], [3, '1904labs', 1325, 92, 92, 'https://www.linkedin.com/company/1904labs/'], [4, 'World Wide Technology', 121807, 5139, 5139, 'https://www.linkedin.com/company/world-wide-technology/'])\n",
      "([1, 26, 1, '17h ', 1], [2, 43, 1, '2d ', 1], [3, 6, 1, '2d ', 1], [4, 9, 1, ' ', 1], [5, 99, 43, '2d ', 1], [6, 19, 43, '1w ', 1], [7, 53, 4, ' ', 1])\n",
      "1w \n",
      "You are connected to -  ['PostgreSQL 11.5 on x86_64-pc-linux-gnu, compiled by gcc (GCC) 4.8.3 20140911 (Red Hat 4.8.3-9), 64-bit'] \n",
      "\n",
      "([1, 'Daugherty Business Solutions', 36211, 1378, 1378, 'https://www.linkedin.com/company/daugherty-business-solutions/'], [2, 'Slalom', 96356, 7073, 7073, 'https://www.linkedin.com/company/slalom-consulting/'], [3, '1904labs', 1325, 92, 92, 'https://www.linkedin.com/company/1904labs/'], [4, 'World Wide Technology', 121807, 5139, 5139, 'https://www.linkedin.com/company/world-wide-technology/'])\n",
      "([1, 26, 1, '17h ', 1], [2, 43, 1, '2d ', 1], [3, 6, 1, '2d ', 1], [4, 9, 1, ' ', 1], [5, 99, 43, '2d ', 1], [6, 19, 43, '1w ', 1], [7, 53, 4, ' ', 1], [8, 6, 4, '1w ', 1])\n",
      "1w \n",
      "You are connected to -  ['PostgreSQL 11.5 on x86_64-pc-linux-gnu, compiled by gcc (GCC) 4.8.3 20140911 (Red Hat 4.8.3-9), 64-bit'] \n",
      "\n",
      "([1, 'Daugherty Business Solutions', 36211, 1378, 1378, 'https://www.linkedin.com/company/daugherty-business-solutions/'], [2, 'Slalom', 96356, 7073, 7073, 'https://www.linkedin.com/company/slalom-consulting/'], [3, '1904labs', 1325, 92, 92, 'https://www.linkedin.com/company/1904labs/'], [4, 'World Wide Technology', 121807, 5139, 5139, 'https://www.linkedin.com/company/world-wide-technology/'])\n",
      "([1, 26, 1, '17h ', 1], [2, 43, 1, '2d ', 1], [3, 6, 1, '2d ', 1], [4, 9, 1, ' ', 1], [5, 99, 43, '2d ', 1], [6, 19, 43, '1w ', 1], [7, 53, 4, ' ', 1], [8, 6, 4, '1w ', 1], [9, 11, 4, '1w ', 1])\n",
      "1w \n",
      "You are connected to -  ['PostgreSQL 11.5 on x86_64-pc-linux-gnu, compiled by gcc (GCC) 4.8.3 20140911 (Red Hat 4.8.3-9), 64-bit'] \n",
      "\n",
      "([1, 'Daugherty Business Solutions', 36211, 1378, 1378, 'https://www.linkedin.com/company/daugherty-business-solutions/'], [2, 'Slalom', 96356, 7073, 7073, 'https://www.linkedin.com/company/slalom-consulting/'], [3, '1904labs', 1325, 92, 92, 'https://www.linkedin.com/company/1904labs/'], [4, 'World Wide Technology', 121807, 5139, 5139, 'https://www.linkedin.com/company/world-wide-technology/'])\n",
      "([1, 26, 1, '17h ', 1], [2, 43, 1, '2d ', 1], [3, 6, 1, '2d ', 1], [4, 9, 1, ' ', 1], [5, 99, 43, '2d ', 1], [6, 19, 43, '1w ', 1], [7, 53, 4, ' ', 1], [8, 6, 4, '1w ', 1], [9, 11, 4, '1w ', 1], [10, 15, 4, '1w ', 1])\n",
      " was live\n",
      "likes: 52\n",
      "comments: 963\n",
      "You are connected to -  ['PostgreSQL 11.5 on x86_64-pc-linux-gnu, compiled by gcc (GCC) 4.8.3 20140911 (Red Hat 4.8.3-9), 64-bit'] \n",
      "\n",
      "([1, 'Daugherty Business Solutions', 36211, 1378, 1378, 'https://www.linkedin.com/company/daugherty-business-solutions/'], [2, 'Slalom', 96356, 7073, 7073, 'https://www.linkedin.com/company/slalom-consulting/'], [3, '1904labs', 1325, 92, 92, 'https://www.linkedin.com/company/1904labs/'], [4, 'World Wide Technology', 121807, 5139, 5139, 'https://www.linkedin.com/company/world-wide-technology/'])\n",
      "([1, 26, 1, '17h ', 1], [2, 43, 1, '2d ', 1], [3, 6, 1, '2d ', 1], [4, 9, 1, ' ', 1], [5, 99, 43, '2d ', 1], [6, 19, 43, '1w ', 1], [7, 53, 4, ' ', 1], [8, 6, 4, '1w ', 1], [9, 11, 4, '1w ', 1], [10, 15, 4, '1w ', 1], [11, 52, 963, ' was live', 1])\n",
      "2w \n",
      "likes: 71\n",
      "comments: 1,185\n",
      "You are connected to -  ['PostgreSQL 11.5 on x86_64-pc-linux-gnu, compiled by gcc (GCC) 4.8.3 20140911 (Red Hat 4.8.3-9), 64-bit'] \n",
      "\n"
     ]
    },
    {
     "ename": "ProgrammingError",
     "evalue": "{'S': 'ERROR', 'V': 'ERROR', 'C': '42601', 'M': 'INSERT has more expressions than target columns', 'P': '80', 'F': 'analyze.c', 'L': '924', 'R': 'transformInsertRow'}",
     "output_type": "error",
     "traceback": [
      "\u001b[1;31m---------------------------------------------------------------------------\u001b[0m",
      "\u001b[1;31mKeyError\u001b[0m                                  Traceback (most recent call last)",
      "\u001b[1;32m~\\Anaconda3\\envs\\PythonData\\lib\\site-packages\\pg8000\\core.py\u001b[0m in \u001b[0;36mexecute\u001b[1;34m(self, cursor, operation, vals)\u001b[0m\n\u001b[0;32m   1777\u001b[0m         \u001b[1;32mtry\u001b[0m\u001b[1;33m:\u001b[0m\u001b[1;33m\u001b[0m\u001b[1;33m\u001b[0m\u001b[0m\n\u001b[1;32m-> 1778\u001b[1;33m             \u001b[0mps\u001b[0m \u001b[1;33m=\u001b[0m \u001b[0mcache\u001b[0m\u001b[1;33m[\u001b[0m\u001b[1;34m'ps'\u001b[0m\u001b[1;33m]\u001b[0m\u001b[1;33m[\u001b[0m\u001b[0mkey\u001b[0m\u001b[1;33m]\u001b[0m\u001b[1;33m\u001b[0m\u001b[1;33m\u001b[0m\u001b[0m\n\u001b[0m\u001b[0;32m   1779\u001b[0m             \u001b[0mcursor\u001b[0m\u001b[1;33m.\u001b[0m\u001b[0mps\u001b[0m \u001b[1;33m=\u001b[0m \u001b[0mps\u001b[0m\u001b[1;33m\u001b[0m\u001b[1;33m\u001b[0m\u001b[0m\n",
      "\u001b[1;31mKeyError\u001b[0m: (\"INSERT INTO posts(likes, comments, date, company_id) VALUES (71, 1,185, '2w ', 1);\", ())",
      "\nDuring handling of the above exception, another exception occurred:\n",
      "\u001b[1;31mProgrammingError\u001b[0m                          Traceback (most recent call last)",
      "\u001b[1;32m<ipython-input-143-2f11daaba3bb>\u001b[0m in \u001b[0;36m<module>\u001b[1;34m\u001b[0m\n\u001b[0;32m      3\u001b[0m     \u001b[0mfilterToMostRecent\u001b[0m\u001b[1;33m(\u001b[0m\u001b[1;33m)\u001b[0m\u001b[1;33m\u001b[0m\u001b[1;33m\u001b[0m\u001b[0m\n\u001b[0;32m      4\u001b[0m     \u001b[0mscroll_down\u001b[0m\u001b[1;33m(\u001b[0m\u001b[1;33m)\u001b[0m\u001b[1;33m\u001b[0m\u001b[1;33m\u001b[0m\u001b[0m\n\u001b[1;32m----> 5\u001b[1;33m     \u001b[0mpostData\u001b[0m\u001b[1;33m(\u001b[0m\u001b[0mid\u001b[0m\u001b[1;33m)\u001b[0m\u001b[1;33m\u001b[0m\u001b[1;33m\u001b[0m\u001b[0m\n\u001b[0m",
      "\u001b[1;32m<ipython-input-137-190bc9387c79>\u001b[0m in \u001b[0;36mpostData\u001b[1;34m(id)\u001b[0m\n\u001b[0;32m     19\u001b[0m         \u001b[0mlinkedin\u001b[0m\u001b[1;33m.\u001b[0m\u001b[0mcreateTables\u001b[0m\u001b[1;33m(\u001b[0m\u001b[1;33m)\u001b[0m\u001b[1;33m\u001b[0m\u001b[1;33m\u001b[0m\u001b[0m\n\u001b[0;32m     20\u001b[0m         \u001b[1;31m# likes, comments, date, company_id\u001b[0m\u001b[1;33m\u001b[0m\u001b[1;33m\u001b[0m\u001b[1;33m\u001b[0m\u001b[0m\n\u001b[1;32m---> 21\u001b[1;33m         \u001b[0mlinkedin\u001b[0m\u001b[1;33m.\u001b[0m\u001b[0mintoPosts\u001b[0m\u001b[1;33m(\u001b[0m\u001b[0mlikes\u001b[0m\u001b[1;33m,\u001b[0m \u001b[0mcomments\u001b[0m\u001b[1;33m,\u001b[0m \u001b[0mdate\u001b[0m\u001b[1;33m,\u001b[0m \u001b[0mid\u001b[0m \u001b[1;33m+\u001b[0m \u001b[1;36m1\u001b[0m\u001b[1;33m)\u001b[0m\u001b[1;33m\u001b[0m\u001b[1;33m\u001b[0m\u001b[0m\n\u001b[0m\u001b[0;32m     22\u001b[0m         \u001b[0mlinkedin\u001b[0m\u001b[1;33m.\u001b[0m\u001b[0mselect\u001b[0m\u001b[1;33m(\u001b[0m\u001b[1;33m)\u001b[0m\u001b[1;33m\u001b[0m\u001b[1;33m\u001b[0m\u001b[0m\n\u001b[0;32m     23\u001b[0m \u001b[1;33m\u001b[0m\u001b[0m\n",
      "\u001b[1;32m~\\SocialMediaScrape\\Models\\linkedin.py\u001b[0m in \u001b[0;36mintoPosts\u001b[1;34m(self, likes, comments, date, company_id)\u001b[0m\n\u001b[0;32m     58\u001b[0m         \u001b[0ms\u001b[0m \u001b[1;33m=\u001b[0m \u001b[1;34mf\"INSERT INTO posts(likes, comments, date, company_id) VALUES ({likes}, {comments}, '{date}', {company_id});\"\u001b[0m\u001b[1;33m\u001b[0m\u001b[1;33m\u001b[0m\u001b[0m\n\u001b[0;32m     59\u001b[0m         \u001b[0mcursor\u001b[0m\u001b[1;33m.\u001b[0m\u001b[0mexecute\u001b[0m\u001b[1;33m(\u001b[0m\u001b[1;34m'BEGIN TRANSACTION;'\u001b[0m\u001b[1;33m)\u001b[0m\u001b[1;33m\u001b[0m\u001b[1;33m\u001b[0m\u001b[0m\n\u001b[1;32m---> 60\u001b[1;33m         \u001b[0mcursor\u001b[0m\u001b[1;33m.\u001b[0m\u001b[0mexecute\u001b[0m\u001b[1;33m(\u001b[0m\u001b[0ms\u001b[0m\u001b[1;33m)\u001b[0m\u001b[1;33m\u001b[0m\u001b[1;33m\u001b[0m\u001b[0m\n\u001b[0m\u001b[0;32m     61\u001b[0m         \u001b[0mcursor\u001b[0m\u001b[1;33m.\u001b[0m\u001b[0mexecute\u001b[0m\u001b[1;33m(\u001b[0m\u001b[1;34m'COMMIT;'\u001b[0m\u001b[1;33m)\u001b[0m\u001b[1;33m\u001b[0m\u001b[1;33m\u001b[0m\u001b[0m\n\u001b[0;32m     62\u001b[0m \u001b[1;33m\u001b[0m\u001b[0m\n",
      "\u001b[1;32m~\\Anaconda3\\envs\\PythonData\\lib\\site-packages\\pg8000\\core.py\u001b[0m in \u001b[0;36mexecute\u001b[1;34m(self, operation, args, stream)\u001b[0m\n\u001b[0;32m    859\u001b[0m             \u001b[1;32mif\u001b[0m \u001b[1;32mnot\u001b[0m \u001b[0mself\u001b[0m\u001b[1;33m.\u001b[0m\u001b[0m_c\u001b[0m\u001b[1;33m.\u001b[0m\u001b[0min_transaction\u001b[0m \u001b[1;32mand\u001b[0m \u001b[1;32mnot\u001b[0m \u001b[0mself\u001b[0m\u001b[1;33m.\u001b[0m\u001b[0m_c\u001b[0m\u001b[1;33m.\u001b[0m\u001b[0mautocommit\u001b[0m\u001b[1;33m:\u001b[0m\u001b[1;33m\u001b[0m\u001b[1;33m\u001b[0m\u001b[0m\n\u001b[0;32m    860\u001b[0m                 \u001b[0mself\u001b[0m\u001b[1;33m.\u001b[0m\u001b[0m_c\u001b[0m\u001b[1;33m.\u001b[0m\u001b[0mexecute\u001b[0m\u001b[1;33m(\u001b[0m\u001b[0mself\u001b[0m\u001b[1;33m,\u001b[0m \u001b[1;34m\"begin transaction\"\u001b[0m\u001b[1;33m,\u001b[0m \u001b[1;32mNone\u001b[0m\u001b[1;33m)\u001b[0m\u001b[1;33m\u001b[0m\u001b[1;33m\u001b[0m\u001b[0m\n\u001b[1;32m--> 861\u001b[1;33m             \u001b[0mself\u001b[0m\u001b[1;33m.\u001b[0m\u001b[0m_c\u001b[0m\u001b[1;33m.\u001b[0m\u001b[0mexecute\u001b[0m\u001b[1;33m(\u001b[0m\u001b[0mself\u001b[0m\u001b[1;33m,\u001b[0m \u001b[0moperation\u001b[0m\u001b[1;33m,\u001b[0m \u001b[0margs\u001b[0m\u001b[1;33m)\u001b[0m\u001b[1;33m\u001b[0m\u001b[1;33m\u001b[0m\u001b[0m\n\u001b[0m\u001b[0;32m    862\u001b[0m         \u001b[1;32mexcept\u001b[0m \u001b[0mAttributeError\u001b[0m \u001b[1;32mas\u001b[0m \u001b[0me\u001b[0m\u001b[1;33m:\u001b[0m\u001b[1;33m\u001b[0m\u001b[1;33m\u001b[0m\u001b[0m\n\u001b[0;32m    863\u001b[0m             \u001b[1;32mif\u001b[0m \u001b[0mself\u001b[0m\u001b[1;33m.\u001b[0m\u001b[0m_c\u001b[0m \u001b[1;32mis\u001b[0m \u001b[1;32mNone\u001b[0m\u001b[1;33m:\u001b[0m\u001b[1;33m\u001b[0m\u001b[1;33m\u001b[0m\u001b[0m\n",
      "\u001b[1;32m~\\Anaconda3\\envs\\PythonData\\lib\\site-packages\\pg8000\\core.py\u001b[0m in \u001b[0;36mexecute\u001b[1;34m(self, cursor, operation, vals)\u001b[0m\n\u001b[0;32m   1835\u001b[0m                     \u001b[1;32mraise\u001b[0m \u001b[0me\u001b[0m\u001b[1;33m\u001b[0m\u001b[1;33m\u001b[0m\u001b[0m\n\u001b[0;32m   1836\u001b[0m \u001b[1;33m\u001b[0m\u001b[0m\n\u001b[1;32m-> 1837\u001b[1;33m             \u001b[0mself\u001b[0m\u001b[1;33m.\u001b[0m\u001b[0mhandle_messages\u001b[0m\u001b[1;33m(\u001b[0m\u001b[0mcursor\u001b[0m\u001b[1;33m)\u001b[0m\u001b[1;33m\u001b[0m\u001b[1;33m\u001b[0m\u001b[0m\n\u001b[0m\u001b[0;32m   1838\u001b[0m \u001b[1;33m\u001b[0m\u001b[0m\n\u001b[0;32m   1839\u001b[0m             \u001b[1;31m# We've got row_desc that allows us to identify what we're\u001b[0m\u001b[1;33m\u001b[0m\u001b[1;33m\u001b[0m\u001b[1;33m\u001b[0m\u001b[0m\n",
      "\u001b[1;32m~\\Anaconda3\\envs\\PythonData\\lib\\site-packages\\pg8000\\core.py\u001b[0m in \u001b[0;36mhandle_messages\u001b[1;34m(self, cursor)\u001b[0m\n\u001b[0;32m   1974\u001b[0m \u001b[1;33m\u001b[0m\u001b[0m\n\u001b[0;32m   1975\u001b[0m         \u001b[1;32mif\u001b[0m \u001b[0mself\u001b[0m\u001b[1;33m.\u001b[0m\u001b[0merror\u001b[0m \u001b[1;32mis\u001b[0m \u001b[1;32mnot\u001b[0m \u001b[1;32mNone\u001b[0m\u001b[1;33m:\u001b[0m\u001b[1;33m\u001b[0m\u001b[1;33m\u001b[0m\u001b[0m\n\u001b[1;32m-> 1976\u001b[1;33m             \u001b[1;32mraise\u001b[0m \u001b[0mself\u001b[0m\u001b[1;33m.\u001b[0m\u001b[0merror\u001b[0m\u001b[1;33m\u001b[0m\u001b[1;33m\u001b[0m\u001b[0m\n\u001b[0m\u001b[0;32m   1977\u001b[0m \u001b[1;33m\u001b[0m\u001b[0m\n\u001b[0;32m   1978\u001b[0m     \u001b[1;31m# Byte1('C') - Identifies the message as a close command.\u001b[0m\u001b[1;33m\u001b[0m\u001b[1;33m\u001b[0m\u001b[1;33m\u001b[0m\u001b[0m\n",
      "\u001b[1;31mProgrammingError\u001b[0m: {'S': 'ERROR', 'V': 'ERROR', 'C': '42601', 'M': 'INSERT has more expressions than target columns', 'P': '80', 'F': 'analyze.c', 'L': '924', 'R': 'transformInsertRow'}"
     ]
    }
   ],
   "source": [
    "for id in range(len(urls)):\n",
    "    browser.visit(urls[id])\n",
    "    filterToMostRecent()\n",
    "    scroll_down()\n",
    "    postData(id)"
   ]
  },
  {
   "cell_type": "code",
   "execution_count": 94,
   "metadata": {},
   "outputs": [],
   "source": []
  },
  {
   "cell_type": "code",
   "execution_count": 83,
   "metadata": {},
   "outputs": [],
   "source": []
  },
  {
   "cell_type": "code",
   "execution_count": 96,
   "metadata": {},
   "outputs": [
    {
     "name": "stdout",
     "output_type": "stream",
     "text": [
      "6\n"
     ]
    }
   ],
   "source": [
    "\n"
   ]
  },
  {
   "cell_type": "code",
   "execution_count": 52,
   "metadata": {},
   "outputs": [
    {
     "name": "stdout",
     "output_type": "stream",
     "text": [
      "3w\n"
     ]
    }
   ],
   "source": []
  },
  {
   "cell_type": "code",
   "execution_count": null,
   "metadata": {},
   "outputs": [],
   "source": []
  }
 ],
 "metadata": {
  "kernelspec": {
   "display_name": "Python 3",
   "language": "python",
   "name": "python3"
  },
  "language_info": {
   "codemirror_mode": {
    "name": "ipython",
    "version": 3
   },
   "file_extension": ".py",
   "mimetype": "text/x-python",
   "name": "python",
   "nbconvert_exporter": "python",
   "pygments_lexer": "ipython3",
   "version": "3.6.8"
  }
 },
 "nbformat": 4,
 "nbformat_minor": 2
}
