{
 "cells": [
  {
   "cell_type": "code",
   "execution_count": null,
   "metadata": {},
   "outputs": [],
   "source": [
    "import re\n",
    "import time\n",
    "import pandas as pd\n",
    "from splinter import Browser\n",
    "from config import aLinkedIn\n",
    "from Models.linkedin import LinkedIn\n",
    "from Main import daugherty, slalom, _1904labs, worldWideTechnology"
   ]
  },
  {
   "cell_type": "code",
   "execution_count": null,
   "metadata": {},
   "outputs": [],
   "source": [
    "urls = [daugherty.linkedin, slalom.linkedin, _1904labs.linkedin, worldWideTechnology.linkedin]"
   ]
  },
  {
   "cell_type": "code",
   "execution_count": null,
   "metadata": {},
   "outputs": [],
   "source": [
    "def login():\n",
    "    browser.visit(urls[0])\n",
    "    button = browser.find_by_css(\"a[class='form-toggle']\")\n",
    "    button.click()\n",
    "    browser.fill('session_key', aLinkedIn[\"email\"])\n",
    "    browser.fill('session_password', aLinkedIn[\"password\"])\n",
    "    button = browser.find_by_css(\"input[class='login submit-button']\")\n",
    "    button.click()\n",
    "    "
   ]
  },
  {
   "cell_type": "code",
   "execution_count": null,
   "metadata": {
    "scrolled": true
   },
   "outputs": [],
   "source": [
    "def grabProfiles(urls):\n",
    "    for url in urls:\n",
    "\n",
    "        browser.visit(url)\n",
    "\n",
    "        name = browser.find_by_css(\"span[dir='ltr']\")[0].text\n",
    "\n",
    "        followers = browser.find_by_css(\"div[class='org-top-card-summary__info-item org-top-card-summary__follower-count']\").text\n",
    "        followers = re.sub(\"[^\\d]\", \"\", followers) # returns only digits\n",
    "        followers = int(followers)\n",
    "\n",
    "        employees_on_linkedin = browser.find_by_css(\"a[data-control-name='topcard_see_all_employees']\").text\n",
    "        employees_on_linkedin = re.sub(\"[^\\d]\", \"\", employees_on_linkedin) # returns only digits\n",
    "        employees_on_linkedin = int(employees_on_linkedin)\n",
    "\n",
    "        size = employees_on_linkedin\n",
    "\n",
    "        url = url\n",
    "\n",
    "        print(name, followers, employees_on_linkedin)\n",
    "\n",
    "        linkedin = LinkedIn()\n",
    "        linkedin.connect()\n",
    "        linkedin.createTableProfile()\n",
    "        linkedin.intoProfile(name, followers, employees_on_linkedin, size, url)\n",
    "        linkedin.select()\n"
   ]
  },
  {
   "cell_type": "code",
   "execution_count": null,
   "metadata": {},
   "outputs": [],
   "source": [
    "def filterToMostRecent():\n",
    "    button = browser.find_by_css(\"li-icon[class='sort-dropdown__icon']\")[0]\n",
    "    button.click()\n",
    "    button = browser.find_by_css('button[class=\"flex-grow-1 justify-flex-start ph4 pv2 artdeco-button artdeco-button--muted artdeco-button--1 artdeco-button--tertiary ember-view\"]')\n",
    "    button.click()"
   ]
  },
  {
   "cell_type": "code",
   "execution_count": null,
   "metadata": {},
   "outputs": [],
   "source": [
    "def scroll_down():\n",
    "    \n",
    "    _data = browser.find_by_css(\"div[class='occludable-update ember-view']\")\n",
    "\n",
    "    \n",
    "    while len(_data) > 1:\n",
    "        _data2 = browser.find_by_css(\"div[class='occludable-update ember-view']\")\n",
    "        browser.execute_script(\"window.scrollTo(400, document.body.scrollHeight);\")\n",
    "        _data = browser.find_by_css(\"div[class='occludable-update ember-view']\")\n",
    "        if (len(_data) == len(_data2)):\n",
    "            timer = time.time()\n",
    "            one_minutes_elapsed = timer + 60\n",
    "            while time.time() < one_minutes_elapsed:\n",
    "                _data3 = browser.find_by_css(\"div[class='occludable-update ember-view']\")\n",
    "                browser.execute_script(\"window.scrollTo(400, document.body.scrollHeight);\")\n",
    "                _data4 = browser.find_by_css(\"div[class='occludable-update ember-view']\")\n",
    "            if (len(_data2) == len(_data3)):\n",
    "                print(\"finished\")\n",
    "                break\n",
    "    print(len(_data))\n",
    "        "
   ]
  },
  {
   "cell_type": "code",
   "execution_count": null,
   "metadata": {},
   "outputs": [],
   "source": [
    "def postData(id):\n",
    "    _data = browser.find_by_css(\"div[class='occludable-update ember-view']\")\n",
    "    for i in range(len(_data)):\n",
    "        date = browser.find_by_css(\"div[class='feed-shared-text-view white-space-pre-wrap break-words ember-view']\")[i].text\n",
    "        date = re.sub(\"\\s+.*\", \"\", date)\n",
    "        reaction = browser.find_by_css(\"ul[class='social-details-social-counts ember-view']\")[i].text\n",
    "        print(date)\n",
    "        try:\n",
    "            likes = reaction.split(\"\\n\")[0].split()[0]\n",
    "            likes = re.sub(\"[^\\d]\", \"\", likes) # returns only digitS\n",
    "            int(likes)\n",
    "        except:\n",
    "            likes = \"0\"\n",
    "            \n",
    "        try:\n",
    "            comments = reaction.split(\"\\n\")[1].split()[0]\n",
    "            comments = re.sub(\"[^\\d]\", \"\", comments) # returns only digits\n",
    "            int(comments)\n",
    "        except:\n",
    "            comments = \"0\"\n",
    "            \n",
    "        print(\"likes: \" + str(likes))\n",
    "        print(\"comments: \" + str(comments))\n",
    "        \n",
    "        linkedin = LinkedIn()\n",
    "        linkedin.connect()\n",
    "        linkedin.createTablePosts()\n",
    "            \n",
    "        linkedin.intoPosts(likes, comments, date, id + 1)\n",
    "        linkedin.select()\n",
    "    "
   ]
  },
  {
   "cell_type": "code",
   "execution_count": null,
   "metadata": {},
   "outputs": [],
   "source": [
    "executable_path = {'executable_path': 'chromedriver.exe'}\n",
    "browser = Browser('chrome', **executable_path, headless=False)\n",
    "browser.driver.set_window_size(1280, 720)"
   ]
  },
  {
   "cell_type": "code",
   "execution_count": null,
   "metadata": {
    "scrolled": true
   },
   "outputs": [],
   "source": [
    "login()"
   ]
  },
  {
   "cell_type": "code",
   "execution_count": null,
   "metadata": {
    "scrolled": true
   },
   "outputs": [],
   "source": [
    "grabProfiles(urls)"
   ]
  },
  {
   "cell_type": "code",
   "execution_count": null,
   "metadata": {
    "scrolled": false
   },
   "outputs": [],
   "source": [
    "for id in range(len(urls)):\n",
    "    browser.visit(urls[id])\n",
    "    filterToMostRecent()\n",
    "    scroll_down()\n",
    "    postData(id)"
   ]
  }
 ],
 "metadata": {
  "kernelspec": {
   "display_name": "Python 3",
   "language": "python",
   "name": "python3"
  },
  "language_info": {
   "codemirror_mode": {
    "name": "ipython",
    "version": 3
   },
   "file_extension": ".py",
   "mimetype": "text/x-python",
   "name": "python",
   "nbconvert_exporter": "python",
   "pygments_lexer": "ipython3",
   "version": "3.7.3"
  }
 },
 "nbformat": 4,
 "nbformat_minor": 2
}
