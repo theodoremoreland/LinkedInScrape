{
 "cells": [
  {
   "cell_type": "code",
   "execution_count": 1,
   "metadata": {},
   "outputs": [],
   "source": [
    "# Native\n",
    "import re\n",
    "import sys\n",
    "import time\n",
    "\n",
    "# Third party\n",
    "import pandas as pd\n",
    "from splinter import Browser\n",
    "from bs4 import BeautifulSoup as bs\n",
    "\n",
    "# Custom\n",
    "sys.path.append(\"..\")\n",
    "from Classes.DB import DB\n",
    "from linkedInCred import (linkedIn_email, linkedIn_password)\n",
    "from scripts.companyObjects import (daugherty, slalom, _1904labs, worldWideTechnology)"
   ]
  },
  {
   "cell_type": "code",
   "execution_count": 2,
   "metadata": {},
   "outputs": [
    {
     "name": "stdout",
     "output_type": "stream",
     "text": [
      "You are connected to -  ['PostgreSQL 13.0, compiled by Visual C++ build 1914, 64-bit'] \n",
      "\n"
     ]
    }
   ],
   "source": [
    "web_data_db = DB()\n",
    "web_data_db.connect()\n",
    "web_data_db.createTableCompanyProfiles()\n",
    "web_data_db.createTableCompanyPosts()"
   ]
  },
  {
   "cell_type": "code",
   "execution_count": 3,
   "metadata": {},
   "outputs": [],
   "source": [
    "companies = [slalom, _1904labs, worldWideTechnology]"
   ]
  },
  {
   "cell_type": "code",
   "execution_count": 4,
   "metadata": {},
   "outputs": [],
   "source": [
    "executable_path = {'executable_path': 'chromedriver.exe'}\n",
    "browser = Browser('chrome', **executable_path, headless=False)\n",
    "browser.driver.set_window_size(1600, 900) # Has to be wide enough to prevent messenger from covering filter buttons"
   ]
  },
  {
   "cell_type": "code",
   "execution_count": 5,
   "metadata": {},
   "outputs": [],
   "source": [
    "def logOnToLinkedIn():\n",
    "    browser.visit(companies[0].linkedin)\n",
    "    button = browser.links.find_by_partial_href(\"https://www.linkedin.com/login?\")\n",
    "    button.click()\n",
    "    browser.fill('session_key', linkedIn_email)\n",
    "    browser.fill('session_password', linkedIn_password)\n",
    "    button = browser.find_by_value('Sign in')\n",
    "    button.click()"
   ]
  },
  {
   "cell_type": "code",
   "execution_count": 6,
   "metadata": {
    "scrolled": true
   },
   "outputs": [],
   "source": [
    "def scrapeProfileMetaData(company):\n",
    "    url = company.linkedin\n",
    "    browser.visit(url)\n",
    "    html = browser.html\n",
    "    soup = bs(html, 'html.parser')\n",
    "\n",
    "    followers = re.search(r'[\\d,]+ followers', html, re.DOTALL).group()\n",
    "    followers = re.sub(\"[^\\d]\", \"\", followers) # returns only digits\n",
    "    followers = int(followers)\n",
    "\n",
    "    employees_on_linkedin = re.search(r'See all(.*)employees on LinkedIn', html, re.DOTALL).group()\n",
    "    employees_on_linkedin = re.sub(\"[^\\d]\", \"\", employees_on_linkedin) # returns only digits\n",
    "    employees_on_linkedin = int(employees_on_linkedin)\n",
    "\n",
    "    print(f\"{company.name} has {followers} followers and {employees_on_linkedin} employees on LinkedIn.\")\n",
    "\n",
    "    web_data_db.intoCompanyProfiles(company.name, followers, employees_on_linkedin, url)\n",
    "    web_data_db.select()"
   ]
  },
  {
   "cell_type": "code",
   "execution_count": 7,
   "metadata": {},
   "outputs": [],
   "source": [
    "def sortProfilePostsByMostRecent():\n",
    "    button = browser.find_by_css(\"div[class='sort-dropdown mt2 ember-view']\")\n",
    "    button.click()\n",
    "    button = browser.find_by_text('Recent')\n",
    "    button.click()"
   ]
  },
  {
   "cell_type": "code",
   "execution_count": 8,
   "metadata": {},
   "outputs": [],
   "source": [
    "def scrollDownUntilAllPostsAreLoaded():\n",
    "    number_posts_before_scroll = len(browser.find_by_css(\"div[class='occludable-update ember-view']\"))\n",
    "\n",
    "    while number_posts_before_scroll > 1:\n",
    "        browser.execute_script(\"window.scrollTo(0, document.body.scrollHeight);\")\n",
    "        number_posts_after_scroll = len(browser.find_by_css(\"div[class='occludable-update ember-view']\"))\n",
    "        \n",
    "        if (number_posts_before_scroll == number_posts_after_scroll):\n",
    "            timer = time.time()\n",
    "            ten_seconds_elapsed = timer + 10\n",
    "            \n",
    "            while time.time() < ten_seconds_elapsed:\n",
    "                number_posts_before_scroll = len(browser.find_by_css(\"div[class='occludable-update ember-view']\"))\n",
    "                browser.execute_script(\"window.scrollTo(0, document.body.scrollHeight);\")\n",
    "                number_posts_after_scroll = len(browser.find_by_css(\"div[class='occludable-update ember-view']\"))\n",
    "                \n",
    "            if (number_posts_before_scroll == number_posts_after_scroll):\n",
    "                print(\"finished\")\n",
    "                break\n",
    "        else:\n",
    "            number_posts_before_scroll = len(browser.find_by_css(\"div[class='occludable-update ember-view']\"))\n",
    "                \n",
    "    print(f\"Number of posts {number_posts_before_scroll}\")\n",
    "        "
   ]
  },
  {
   "cell_type": "code",
   "execution_count": 9,
   "metadata": {},
   "outputs": [],
   "source": [
    "def scrapeCompanyPosts(id):\n",
    "    posts = browser.find_by_css(\"div[class='occludable-update ember-view']\")\n",
    "\n",
    "    for post in posts:\n",
    "        post = post.text\n",
    "          \n",
    "        try:\n",
    "            date = re.search(r'^(\\w+ •\\n|\\w+ ago\\n)', post, re.MULTILINE).group()\n",
    "        except Exception as e:\n",
    "            print(f\"no like date: {e}\")\n",
    "            date = \"\"\n",
    "            \n",
    "        try:\n",
    "            like_count = re.search(r'^[\\d]+$', post, re.MULTILINE).group()\n",
    "            like_count = int(like_count)\n",
    "        except Exception as e:\n",
    "            print(f\"no like count: {e}\")\n",
    "            like_count = 0\n",
    "\n",
    "        try:\n",
    "            # Content always follows the time the post was published and precedes the like count.\n",
    "            contentRegex = re.compile(f\"( •\\n| ago\\n).*?^({like_count})$\", re.MULTILINE|re.DOTALL)\n",
    "            content = re.search(contentRegex, post).group()\n",
    "            content = re.sub(r\"( •\\n| ago\\n)\", \"\", content, re.MULTILINE|re.DOTALL) # Gets rid of the leading timestamp\n",
    "            content = content[:-len(str(like_count))] # Gets rid of the trailing like count\n",
    "        except Exception as e:\n",
    "            print(f\"no content: {e}\")\n",
    "            content = \"\"\n",
    "            \n",
    "        try:\n",
    "            comment_area = re.search(r'^[\\d]+ comment(s)?$', post, re.MULTILINE).group()\n",
    "            comment_count = re.sub(r\"[^\\d]\", \"\", comment_area) # returns only digits\n",
    "            comment_count = int(comment_count)\n",
    "        except Exception as e:\n",
    "            print(f\"no comment count: {e}\")\n",
    "            comment_count = 0\n",
    "            \n",
    "        print(f\"\\n\\nlikes: {like_count}\")\n",
    "        print(f\"comments: {comment_count}\")\n",
    "        print(f\"content: {content}\")\n",
    "        web_data_db.intoCompanyPosts(content, like_count, comment_count, date, id + 1)\n",
    "        \n",
    "    web_data_db.select()\n",
    "    "
   ]
  },
  {
   "cell_type": "code",
   "execution_count": 10,
   "metadata": {
    "scrolled": true
   },
   "outputs": [
    {
     "name": "stdout",
     "output_type": "stream",
     "text": [
      "Slalom has 116222 followers and 7511 employees on LinkedIn.\n",
      "([1, 'Slalom', 116222, 7511, 'https://www.linkedin.com/company/slalom-consulting/'],)\n",
      "()\n",
      "finished\n",
      "Number of posts 83\n",
      "\n",
      "\n",
      "likes: 28\n",
      "comments: 1\n",
      "content: In case you missed it, watch Slalom’s exclusive event with award-winning actor, producer, and activist America Ferrera. Thrilled to wrap #reInvent with this official event focused on building equity and community—which starts with inclusive teams empowered to create solutions that represent the diversity of our communities:\n",
      "…see more\n",
      "Watch on-demand\n",
      "go.slalom.com • 1 min read\n",
      "\n"
     ]
    },
    {
     "ename": "ProgrammingError",
     "evalue": "{'S': 'ERROR', 'V': 'ERROR', 'C': '42703', 'M': 'column \"content\" of relation \"company_posts\" does not exist', 'P': '27', 'F': 'd:\\\\pginstaller_13.auto\\\\postgres.windows-x64\\\\src\\\\backend\\\\parser\\\\parse_target.c', 'L': '1039', 'R': 'checkInsertTargets'}",
     "output_type": "error",
     "traceback": [
      "\u001b[1;31m---------------------------------------------------------------------------\u001b[0m",
      "\u001b[1;31mProgrammingError\u001b[0m                          Traceback (most recent call last)",
      "\u001b[1;32m<ipython-input-10-3c835faec844>\u001b[0m in \u001b[0;36m<module>\u001b[1;34m\u001b[0m\n\u001b[0;32m      6\u001b[0m     \u001b[0msortProfilePostsByMostRecent\u001b[0m\u001b[1;33m(\u001b[0m\u001b[1;33m)\u001b[0m\u001b[1;33m\u001b[0m\u001b[1;33m\u001b[0m\u001b[0m\n\u001b[0;32m      7\u001b[0m     \u001b[0mscrollDownUntilAllPostsAreLoaded\u001b[0m\u001b[1;33m(\u001b[0m\u001b[1;33m)\u001b[0m\u001b[1;33m\u001b[0m\u001b[1;33m\u001b[0m\u001b[0m\n\u001b[1;32m----> 8\u001b[1;33m     \u001b[0mscrapeCompanyPosts\u001b[0m\u001b[1;33m(\u001b[0m\u001b[0mid\u001b[0m\u001b[1;33m)\u001b[0m\u001b[1;33m\u001b[0m\u001b[1;33m\u001b[0m\u001b[0m\n\u001b[0m",
      "\u001b[1;32m<ipython-input-9-77e88195c896>\u001b[0m in \u001b[0;36mscrapeCompanyPosts\u001b[1;34m(id)\u001b[0m\n\u001b[0;32m     39\u001b[0m         \u001b[0mprint\u001b[0m\u001b[1;33m(\u001b[0m\u001b[1;34mf\"comments: {comment_count}\"\u001b[0m\u001b[1;33m)\u001b[0m\u001b[1;33m\u001b[0m\u001b[1;33m\u001b[0m\u001b[0m\n\u001b[0;32m     40\u001b[0m         \u001b[0mprint\u001b[0m\u001b[1;33m(\u001b[0m\u001b[1;34mf\"content: {content}\"\u001b[0m\u001b[1;33m)\u001b[0m\u001b[1;33m\u001b[0m\u001b[1;33m\u001b[0m\u001b[0m\n\u001b[1;32m---> 41\u001b[1;33m         \u001b[0mweb_data_db\u001b[0m\u001b[1;33m.\u001b[0m\u001b[0mintoCompanyPosts\u001b[0m\u001b[1;33m(\u001b[0m\u001b[0mcontent\u001b[0m\u001b[1;33m,\u001b[0m \u001b[0mlike_count\u001b[0m\u001b[1;33m,\u001b[0m \u001b[0mcomment_count\u001b[0m\u001b[1;33m,\u001b[0m \u001b[0mdate\u001b[0m\u001b[1;33m,\u001b[0m \u001b[0mid\u001b[0m \u001b[1;33m+\u001b[0m \u001b[1;36m1\u001b[0m\u001b[1;33m)\u001b[0m\u001b[1;33m\u001b[0m\u001b[1;33m\u001b[0m\u001b[0m\n\u001b[0m\u001b[0;32m     42\u001b[0m \u001b[1;33m\u001b[0m\u001b[0m\n\u001b[0;32m     43\u001b[0m     \u001b[0mweb_data_db\u001b[0m\u001b[1;33m.\u001b[0m\u001b[0mselect\u001b[0m\u001b[1;33m(\u001b[0m\u001b[1;33m)\u001b[0m\u001b[1;33m\u001b[0m\u001b[1;33m\u001b[0m\u001b[0m\n",
      "\u001b[1;32m~\\Projects\\LinkedInScrape\\Classes\\DB.py\u001b[0m in \u001b[0;36mintoCompanyPosts\u001b[1;34m(self, content, likes, comments, date, company_id)\u001b[0m\n\u001b[0;32m     66\u001b[0m         \u001b[0ms\u001b[0m \u001b[1;33m=\u001b[0m \u001b[1;34mf\"INSERT INTO company_posts(content, likes, comments, date, company_id) VALUES ('{content}', {likes}, {comments}, '{date}', {company_id});\"\u001b[0m\u001b[1;33m\u001b[0m\u001b[1;33m\u001b[0m\u001b[0m\n\u001b[0;32m     67\u001b[0m         \u001b[0mcursor\u001b[0m\u001b[1;33m.\u001b[0m\u001b[0mexecute\u001b[0m\u001b[1;33m(\u001b[0m\u001b[1;34m'BEGIN TRANSACTION;'\u001b[0m\u001b[1;33m)\u001b[0m\u001b[1;33m\u001b[0m\u001b[1;33m\u001b[0m\u001b[0m\n\u001b[1;32m---> 68\u001b[1;33m         \u001b[0mcursor\u001b[0m\u001b[1;33m.\u001b[0m\u001b[0mexecute\u001b[0m\u001b[1;33m(\u001b[0m\u001b[0ms\u001b[0m\u001b[1;33m)\u001b[0m\u001b[1;33m\u001b[0m\u001b[1;33m\u001b[0m\u001b[0m\n\u001b[0m\u001b[0;32m     69\u001b[0m         \u001b[0mcursor\u001b[0m\u001b[1;33m.\u001b[0m\u001b[0mexecute\u001b[0m\u001b[1;33m(\u001b[0m\u001b[1;34m'COMMIT;'\u001b[0m\u001b[1;33m)\u001b[0m\u001b[1;33m\u001b[0m\u001b[1;33m\u001b[0m\u001b[0m\n\u001b[0;32m     70\u001b[0m \u001b[1;33m\u001b[0m\u001b[0m\n",
      "\u001b[1;32mc:\\users\\theod\\anaconda3\\envs\\linkedinscrape\\lib\\site-packages\\pg8000\\core.py\u001b[0m in \u001b[0;36mexecute\u001b[1;34m(self, operation, args, stream)\u001b[0m\n\u001b[0;32m    339\u001b[0m             \u001b[1;32mif\u001b[0m \u001b[1;32mnot\u001b[0m \u001b[0mself\u001b[0m\u001b[1;33m.\u001b[0m\u001b[0m_c\u001b[0m\u001b[1;33m.\u001b[0m\u001b[0min_transaction\u001b[0m \u001b[1;32mand\u001b[0m \u001b[1;32mnot\u001b[0m \u001b[0mself\u001b[0m\u001b[1;33m.\u001b[0m\u001b[0m_c\u001b[0m\u001b[1;33m.\u001b[0m\u001b[0mautocommit\u001b[0m\u001b[1;33m:\u001b[0m\u001b[1;33m\u001b[0m\u001b[1;33m\u001b[0m\u001b[0m\n\u001b[0;32m    340\u001b[0m                 \u001b[0mself\u001b[0m\u001b[1;33m.\u001b[0m\u001b[0m_c\u001b[0m\u001b[1;33m.\u001b[0m\u001b[0mexecute_unnamed\u001b[0m\u001b[1;33m(\u001b[0m\u001b[0mself\u001b[0m\u001b[1;33m,\u001b[0m \u001b[1;34m\"begin transaction\"\u001b[0m\u001b[1;33m)\u001b[0m\u001b[1;33m\u001b[0m\u001b[1;33m\u001b[0m\u001b[0m\n\u001b[1;32m--> 341\u001b[1;33m             self._c.execute_unnamed(\n\u001b[0m\u001b[0;32m    342\u001b[0m                 \u001b[0mself\u001b[0m\u001b[1;33m,\u001b[0m \u001b[0moperation\u001b[0m\u001b[1;33m,\u001b[0m \u001b[0mvals\u001b[0m\u001b[1;33m=\u001b[0m\u001b[0margs\u001b[0m\u001b[1;33m,\u001b[0m \u001b[0minput_oids\u001b[0m\u001b[1;33m=\u001b[0m\u001b[0mself\u001b[0m\u001b[1;33m.\u001b[0m\u001b[0m_input_oids\u001b[0m\u001b[1;33m,\u001b[0m\u001b[1;33m\u001b[0m\u001b[1;33m\u001b[0m\u001b[0m\n\u001b[0;32m    343\u001b[0m                 stream=stream)\n",
      "\u001b[1;32mc:\\users\\theod\\anaconda3\\envs\\linkedinscrape\\lib\\site-packages\\pg8000\\core.py\u001b[0m in \u001b[0;36mexecute_unnamed\u001b[1;34m(self, cursor, operation, vals, input_oids, stream)\u001b[0m\n\u001b[0;32m   1212\u001b[0m             \u001b[0mself\u001b[0m\u001b[1;33m.\u001b[0m\u001b[0msend_QUERY\u001b[0m\u001b[1;33m(\u001b[0m\u001b[0moperation\u001b[0m\u001b[1;33m)\u001b[0m\u001b[1;33m\u001b[0m\u001b[1;33m\u001b[0m\u001b[0m\n\u001b[0;32m   1213\u001b[0m             \u001b[0mself\u001b[0m\u001b[1;33m.\u001b[0m\u001b[0m_flush\u001b[0m\u001b[1;33m(\u001b[0m\u001b[1;33m)\u001b[0m\u001b[1;33m\u001b[0m\u001b[1;33m\u001b[0m\u001b[0m\n\u001b[1;32m-> 1214\u001b[1;33m             \u001b[0mself\u001b[0m\u001b[1;33m.\u001b[0m\u001b[0mhandle_messages\u001b[0m\u001b[1;33m(\u001b[0m\u001b[0mcursor\u001b[0m\u001b[1;33m)\u001b[0m\u001b[1;33m\u001b[0m\u001b[1;33m\u001b[0m\u001b[0m\n\u001b[0m\u001b[0;32m   1215\u001b[0m         \u001b[1;32melse\u001b[0m\u001b[1;33m:\u001b[0m\u001b[1;33m\u001b[0m\u001b[1;33m\u001b[0m\u001b[0m\n\u001b[0;32m   1216\u001b[0m             statement, make_args = convert_paramstyle(\n",
      "\u001b[1;32mc:\\users\\theod\\anaconda3\\envs\\linkedinscrape\\lib\\site-packages\\pg8000\\core.py\u001b[0m in \u001b[0;36mhandle_messages\u001b[1;34m(self, cursor)\u001b[0m\n\u001b[0;32m   1379\u001b[0m \u001b[1;33m\u001b[0m\u001b[0m\n\u001b[0;32m   1380\u001b[0m         \u001b[1;32mif\u001b[0m \u001b[0mself\u001b[0m\u001b[1;33m.\u001b[0m\u001b[0merror\u001b[0m \u001b[1;32mis\u001b[0m \u001b[1;32mnot\u001b[0m \u001b[1;32mNone\u001b[0m\u001b[1;33m:\u001b[0m\u001b[1;33m\u001b[0m\u001b[1;33m\u001b[0m\u001b[0m\n\u001b[1;32m-> 1381\u001b[1;33m             \u001b[1;32mraise\u001b[0m \u001b[0mself\u001b[0m\u001b[1;33m.\u001b[0m\u001b[0merror\u001b[0m\u001b[1;33m\u001b[0m\u001b[1;33m\u001b[0m\u001b[0m\n\u001b[0m\u001b[0;32m   1382\u001b[0m \u001b[1;33m\u001b[0m\u001b[0m\n\u001b[0;32m   1383\u001b[0m     \u001b[1;31m# Byte1('C') - Identifies the message as a close command.\u001b[0m\u001b[1;33m\u001b[0m\u001b[1;33m\u001b[0m\u001b[1;33m\u001b[0m\u001b[0m\n",
      "\u001b[1;31mProgrammingError\u001b[0m: {'S': 'ERROR', 'V': 'ERROR', 'C': '42703', 'M': 'column \"content\" of relation \"company_posts\" does not exist', 'P': '27', 'F': 'd:\\\\pginstaller_13.auto\\\\postgres.windows-x64\\\\src\\\\backend\\\\parser\\\\parse_target.c', 'L': '1039', 'R': 'checkInsertTargets'}"
     ]
    }
   ],
   "source": [
    "logOnToLinkedIn()\n",
    "\n",
    "for id in range(len(companies)):\n",
    "    scrapeProfileMetaData(companies[id])\n",
    "    browser.visit(companies[id].linkedin)\n",
    "    sortProfilePostsByMostRecent()\n",
    "    scrollDownUntilAllPostsAreLoaded()\n",
    "    scrapeCompanyPosts(id)"
   ]
  }
 ],
 "metadata": {
  "kernelspec": {
   "display_name": "Python 3",
   "language": "python",
   "name": "python3"
  },
  "language_info": {
   "codemirror_mode": {
    "name": "ipython",
    "version": 3
   },
   "file_extension": ".py",
   "mimetype": "text/x-python",
   "name": "python",
   "nbconvert_exporter": "python",
   "pygments_lexer": "ipython3",
   "version": "3.8.5"
  }
 },
 "nbformat": 4,
 "nbformat_minor": 2
}
